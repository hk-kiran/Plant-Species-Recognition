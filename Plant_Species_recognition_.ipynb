{
  "nbformat": 4,
  "nbformat_minor": 0,
  "metadata": {
    "colab": {
      "provenance": []
    },
    "kernelspec": {
      "name": "python3",
      "display_name": "Python 3"
    },
    "language_info": {
      "name": "python"
    },
    "accelerator": "GPU"
  },
  "cells": [
    {
      "cell_type": "markdown",
      "metadata": {
        "id": "jigkR0PncdWu"
      },
      "source": [
        "#PLAN LEAF RECOGNITION"
      ]
    },
    {
      "cell_type": "markdown",
      "metadata": {
        "id": "B71VqmAmoa52"
      },
      "source": [
        "####Package Imports"
      ]
    },
    {
      "cell_type": "code",
      "metadata": {
        "id": "MDmTCX4ARVQQ"
      },
      "source": [
        "from google.colab import drive\n",
        "drive.mount('/content/drive')"
      ],
      "execution_count": null,
      "outputs": []
    },
    {
      "cell_type": "code",
      "metadata": {
        "id": "xlcS_KncoaXF"
      },
      "source": [
        "import os\n",
        "import seaborn as sns\n",
        "from zipfile import ZipFile\n",
        "from PIL import Image\n",
        "import tensorflow as tf\n",
        "from tensorflow.keras.layers import Input, Add, Dense, Activation, ZeroPadding2D, BatchNormalization, Flatten, Conv2D, AveragePooling2D, MaxPooling2D, GlobalMaxPooling2D\n",
        "from tensorflow.keras import layers, models\n",
        "from tensorflow.keras.preprocessing import image\n",
        "from tensorflow.keras.preprocessing.image import ImageDataGenerator\n",
        "from tensorflow.keras.applications import VGG16\n",
        "from tensorflow.keras.layers import AveragePooling2D\n",
        "from tensorflow.keras.layers import Dropout\n",
        "from tensorflow.keras.layers import Flatten\n",
        "from tensorflow.keras.layers import Dense\n",
        "from tensorflow.keras.layers import Input\n",
        "from tensorflow.keras.models import Model\n",
        "from tensorflow.keras.optimizers import Adam\n",
        "from tensorflow.keras.initializers import glorot_uniform\n",
        "from tensorflow.keras.utils import to_categorical\n",
        "from sklearn.metrics import classification_report\n",
        "from sklearn.metrics import confusion_matrix\n",
        "import matplotlib.pyplot as plt\n",
        "import matplotlib.image as mpimg\n",
        "import scipy\n",
        "import numpy as np\n",
        "import math\n",
        "from termcolor import colored, cprint"
      ],
      "execution_count": null,
      "outputs": []
    },
    {
      "cell_type": "markdown",
      "metadata": {
        "id": "YGa4pszAcOYI"
      },
      "source": [
        "###Download Datasets"
      ]
    },
    {
      "cell_type": "markdown",
      "metadata": {
        "id": "gPRJwprec_YM"
      },
      "source": [
        "####Flavia Dataset"
      ]
    },
    {
      "cell_type": "code",
      "metadata": {
        "id": "pd4qYU2sY4Ob"
      },
      "source": [
        "!gdown \"https://drive.google.com/uc?id=1wN6c6ZL-ulMQK3ePq-8RgK_8EqoJsm5h\""
      ],
      "execution_count": null,
      "outputs": []
    },
    {
      "cell_type": "code",
      "metadata": {
        "id": "g9cvxuf6Vgfe"
      },
      "source": [
        "!unzip leaves.zip\n",
        "!rm *.zip"
      ],
      "execution_count": null,
      "outputs": []
    },
    {
      "cell_type": "markdown",
      "metadata": {
        "id": "pn66uP2XdD5d"
      },
      "source": [
        "####Swedish Dataset"
      ]
    },
    {
      "cell_type": "code",
      "metadata": {
        "id": "icvB1hQdZhr4"
      },
      "source": [
        "!wget http://www.cvl.isy.liu.se/en/research/datasets/swedish-leaf/leaf1.zip\n",
        "!wget http://www.cvl.isy.liu.se/en/research/datasets/swedish-leaf/leaf2.zip\n",
        "!wget http://www.cvl.isy.liu.se/en/research/datasets/swedish-leaf/leaf3.zip\n",
        "!wget http://www.cvl.isy.liu.se/en/research/datasets/swedish-leaf/leaf4.zip\n",
        "!wget http://www.cvl.isy.liu.se/en/research/datasets/swedish-leaf/leaf5.zip\n",
        "!wget http://www.cvl.isy.liu.se/en/research/datasets/swedish-leaf/leaf6.zip\n",
        "!wget http://www.cvl.isy.liu.se/en/research/datasets/swedish-leaf/leaf7.zip\n",
        "!wget http://www.cvl.isy.liu.se/en/research/datasets/swedish-leaf/leaf8.zip\n",
        "!wget http://www.cvl.isy.liu.se/en/research/datasets/swedish-leaf/leaf9.zip\n",
        "!wget http://www.cvl.isy.liu.se/en/research/datasets/swedish-leaf/leaf10.zip\n",
        "!wget http://www.cvl.isy.liu.se/en/research/datasets/swedish-leaf/leaf11.zip\n",
        "!wget http://www.cvl.isy.liu.se/en/research/datasets/swedish-leaf/leaf12.zip\n",
        "!wget http://www.cvl.isy.liu.se/en/research/datasets/swedish-leaf/leaf13.zip\n",
        "!wget http://www.cvl.isy.liu.se/en/research/datasets/swedish-leaf/leaf14.zip\n",
        "!wget http://www.cvl.isy.liu.se/en/research/datasets/swedish-leaf/leaf15.zip"
      ],
      "execution_count": null,
      "outputs": []
    },
    {
      "cell_type": "code",
      "metadata": {
        "id": "HV4Cr6-ypX1q"
      },
      "source": [
        "def extract(zip):\n",
        "  zipper = ZipFile(zip,'r')\n",
        "  zipper.extractall('./' + zip.split('.')[0])"
      ],
      "execution_count": null,
      "outputs": []
    },
    {
      "cell_type": "code",
      "metadata": {
        "id": "SMgL4x3soNz2"
      },
      "source": [
        "_ = [extract(zip) for zip in os.listdir('.') if zip.endswith(\".zip\")]"
      ],
      "execution_count": null,
      "outputs": []
    },
    {
      "cell_type": "code",
      "metadata": {
        "id": "zXgHYigMuK8_"
      },
      "source": [
        "!rm *.zip"
      ],
      "execution_count": null,
      "outputs": []
    },
    {
      "cell_type": "markdown",
      "metadata": {
        "id": "XAFJ57ukuj8I"
      },
      "source": [
        "#### LeafSnap Dataset"
      ]
    },
    {
      "cell_type": "code",
      "metadata": {
        "id": "pZveOJRKupuv"
      },
      "source": [
        "!wget http://leafsnap.com/static/dataset/leafsnap-dataset.tar\n",
        "!tar xf leafsnap-dataset.tar && rm leafsnap-dataset.tar leafsnap-dataset-readme.txt"
      ],
      "execution_count": null,
      "outputs": []
    },
    {
      "cell_type": "markdown",
      "metadata": {
        "id": "M1a7ltvUtbKC"
      },
      "source": [
        "## Unify  Datasets"
      ]
    },
    {
      "cell_type": "code",
      "metadata": {
        "id": "L2l8ttzDsTcf"
      },
      "source": [
        "!mkdir Dataset\n",
        "!mv leaf* Dataset/\n",
        "!mv dataset/images/field/* Dataset/\n",
        "!rm /content/Dataset/leafsnap-dataset-images.txt\n",
        "!mv Leaves_Named/* /content/Dataset/"
      ],
      "execution_count": null,
      "outputs": []
    },
    {
      "cell_type": "code",
      "metadata": {
        "id": "QVnQ_YiEXaM_"
      },
      "source": [
        "!rm -rf Leaves_Named/ dataset/ sample_data/"
      ],
      "execution_count": null,
      "outputs": []
    },
    {
      "cell_type": "code",
      "metadata": {
        "id": "9pOQUkRyb1QG"
      },
      "source": [
        "path = os.getcwd() + '/Dataset'\n",
        "for root, dirs, files in os.walk(path, topdown=False):\n",
        "  for dir in dirs:\n",
        "    if dir[0].isupper() & (dir.lower() in dirs):\n",
        "      src_imgs = os.listdir(os.path.join(path,dir))\n",
        "      for img in src_imgs:\n",
        "        os.rename(os.path.join(path,dir,img),os.path.join(path,dir.lower(),img))\n",
        "      os.rmdir(os.path.join(path,dir))\n",
        "    elif(dir[0].isupper()):\n",
        "      os.rename(os.path.join(path,dir),os.path.join(path,dir.lower()))"
      ],
      "execution_count": null,
      "outputs": []
    },
    {
      "cell_type": "markdown",
      "metadata": {
        "id": "eivdxQ-YTGeI"
      },
      "source": [
        "## Preprocessing"
      ]
    },
    {
      "cell_type": "markdown",
      "metadata": {
        "id": "cuFP8a-_HXaG"
      },
      "source": [
        "#### Convert non .jpg files to .jpg format"
      ]
    },
    {
      "cell_type": "code",
      "metadata": {
        "id": "-KwMNs5ct5F7"
      },
      "source": [
        "path = os.getcwd() + '/Dataset'\n",
        "for root, dirs, files in os.walk(path, topdown=False):\n",
        "  for name in files:\n",
        "    if os.path.splitext(os.path.join(root, name))[1].lower() != \".jpg\":\n",
        "      outfile = os.path.splitext(os.path.join(root, name))[0] + \".jpg\"\n",
        "      im = Image.open(os.path.join(root, name))\n",
        "      cprint(\"Generating jpeg for \" + name, 'green', attrs=['bold'])\n",
        "      im.thumbnail(im.size)\n",
        "      im.save(outfile, \"JPEG\", quality=100)\n",
        "      !rm {os.path.join(root, name)}"
      ],
      "execution_count": null,
      "outputs": []
    },
    {
      "cell_type": "markdown",
      "metadata": {
        "id": "ofaRBD3aA0bV"
      },
      "source": [
        "#### Resizing to 512 x 512"
      ]
    },
    {
      "cell_type": "code",
      "metadata": {
        "id": "gcUtHw7N6cth"
      },
      "source": [
        "path = os.getcwd() + '/Dataset'\n",
        "for root, dirs, files in os.walk(path, topdown=False):\n",
        "  for name in files:\n",
        "    if os.path.splitext(os.path.join(root, name))[1].lower() == \".jpg\":\n",
        "      im = Image.open(os.path.join(root, name))\n",
        "      if im.size != (512,512):\n",
        "        cprint(\"Resizing \" + os.path.join(root, name) + \" from \" + str(im.size) + \" to (512,512)\", 'green', attrs=['bold'])\n",
        "        im1 = im.resize((512,512))\n",
        "        im1.save(os.path.join(root, name))\n",
        "      else:\n",
        "        cprint(\"The size of \" + os.path.join(root, name) + \"is (512,512)!!\", 'green', attrs=['bold'])"
      ],
      "execution_count": null,
      "outputs": []
    },
    {
      "cell_type": "markdown",
      "metadata": {
        "id": "I8GiogO9hg4a"
      },
      "source": [
        "#### Importing images"
      ]
    },
    {
      "cell_type": "code",
      "metadata": {
        "id": "3wsvKCNzgKZT"
      },
      "source": [
        "targetSize = (512,512)\n",
        "dir2dataset = \"Dataset\""
      ],
      "execution_count": null,
      "outputs": []
    },
    {
      "cell_type": "code",
      "metadata": {
        "id": "UoOYyoOPhx5_"
      },
      "source": [
        "trainAug = ImageDataGenerator(\n",
        "  #samplewise_center=True,\n",
        "\trotation_range=25,\n",
        "\tfill_mode=\"nearest\",\n",
        "  rescale=1./255,\n",
        "  zoom_range=0.3,\n",
        "  horizontal_flip=True,\n",
        "  vertical_flip=True,\n",
        "  validation_split = 0.2\n",
        "  #samplewise_std_normalization=True,\n",
        "  )\n",
        "traindata = trainAug.flow_from_directory(\n",
        "    dir2dataset,\n",
        "    target_size=targetSize,\n",
        "    color_mode=\"rgb\",\n",
        "    class_mode=\"categorical\",\n",
        "    batch_size=12,\n",
        "    shuffle=True,\n",
        "    seed=1337,\n",
        "    subset = 'training'\n",
        ")\n",
        "testdata = trainAug.flow_from_directory(\n",
        "    dir2dataset,\n",
        "    target_size=targetSize,\n",
        "    color_mode=\"rgb\",\n",
        "    class_mode=\"categorical\",\n",
        "    batch_size=12,\n",
        "    shuffle=False,\n",
        "    seed=1337,\n",
        "    subset = 'validation'\n",
        ")\n",
        "print(\"\\n\")\n",
        "cprint(\"Total Number of Images Found: \"+ str(traindata.samples + testdata.samples), 'green', attrs=['bold'])\n",
        "print(\"\\n\")\n",
        "cprint(\"Mapping of plant species to integer ->\", 'green', attrs=['bold'])\n",
        "i = 0\n",
        "for key, value in traindata.class_indices.items():\n",
        "  i = i + 1\n",
        "  if (i < 5) | (i > 221):\n",
        "    cprint (\"{:<30} : {:<10}\".format(key, value), 'cyan', attrs=['bold'])\n",
        "\n",
        "# cprint(str(traindata.class_indices), 'red', attrs=['bold'])"
      ],
      "execution_count": null,
      "outputs": []
    },
    {
      "cell_type": "code",
      "metadata": {
        "id": "vjtMHPGLjXs7"
      },
      "source": [
        "batchX, batchy = traindata.next()\n",
        "cprint('Batch shape=%s, %s' % (batchX.shape, batchy.shape), 'blue')"
      ],
      "execution_count": null,
      "outputs": []
    },
    {
      "cell_type": "markdown",
      "metadata": {
        "id": "XjLnORLhTZBx"
      },
      "source": [
        "## Apply Deep Learning Algorithm\n",
        "\n"
      ]
    },
    {
      "cell_type": "markdown",
      "metadata": {
        "id": "LchYOUCsDfWO"
      },
      "source": [
        "### Training the Model"
      ]
    },
    {
      "cell_type": "markdown",
      "metadata": {
        "id": "ZRIKH_pVhbu5"
      },
      "source": [
        "#### Setting variables"
      ]
    },
    {
      "cell_type": "code",
      "metadata": {
        "id": "CeIG8sQ4TjU8"
      },
      "source": [
        "input_shape = (512,512,3)\n",
        "numClasses = traindata.num_classes"
      ],
      "execution_count": null,
      "outputs": []
    },
    {
      "cell_type": "markdown",
      "metadata": {
        "id": "D4wh09qtDBd_"
      },
      "source": [
        "#### Model - Xception"
      ]
    },
    {
      "cell_type": "code",
      "metadata": {
        "id": "RX6I9b9ez437"
      },
      "source": [
        "model2 = tf.keras.applications.Xception(\n",
        "    include_top=True,\n",
        "    weights=None,\n",
        "    input_tensor=None,\n",
        "    input_shape=None,\n",
        "    pooling=None,\n",
        "    classes=225,\n",
        "    classifier_activation=\"softmax\",\n",
        ")\n"
      ],
      "execution_count": null,
      "outputs": []
    },
    {
      "cell_type": "code",
      "metadata": {
        "id": "0IJYpUoD0Qfb"
      },
      "source": [
        "opt = tf.keras.optimizers.Adam(learning_rate = 1e-2)\n",
        "model2.compile(optimizer=opt, loss=tf.keras.losses.CategoricalCrossentropy(), metrics=['accuracy'])"
      ],
      "execution_count": null,
      "outputs": []
    },
    {
      "cell_type": "code",
      "metadata": {
        "id": "axfndrvICZEY"
      },
      "source": [
        "model2.summary()"
      ],
      "execution_count": null,
      "outputs": []
    },
    {
      "cell_type": "code",
      "metadata": {
        "id": "_NMyCudgsLUz"
      },
      "source": [
        "callbacks = [\n",
        "    tf.keras.callbacks.ModelCheckpoint(\n",
        "        filepath=\"/content/drive/MyDrive/8th sem/Technical seminar/weights/tripletake49_{epoch}\",\n",
        "        monitor=\"loss\",\n",
        "        verbose=1,\n",
        "    )\n",
        "]\n"
      ],
      "execution_count": null,
      "outputs": []
    },
    {
      "cell_type": "code",
      "metadata": {
        "id": "fk1egk41JS2v"
      },
      "source": [
        "model2 = tf.keras.models.load_model(\"/content/drive/MyDrive/8th sem/Technical seminar/weights/tripletake59_1\")"
      ],
      "execution_count": null,
      "outputs": []
    },
    {
      "cell_type": "code",
      "metadata": {
        "id": "o-OEjmg00x_c"
      },
      "source": [
        "H= model2.fit(traindata,epochs=60,callbacks=callbacks)"
      ],
      "execution_count": null,
      "outputs": []
    }
  ]
}